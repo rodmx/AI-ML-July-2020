{
  "nbformat": 4,
  "nbformat_minor": 0,
  "metadata": {
    "colab": {
      "name": "Day04.ipynb",
      "provenance": [],
      "collapsed_sections": [],
      "toc_visible": true,
      "authorship_tag": "ABX9TyP2rQH1GqG4efOW8ew0bVsk",
      "include_colab_link": true
    },
    "kernelspec": {
      "name": "python3",
      "display_name": "Python 3"
    }
  },
  "cells": [
    {
      "cell_type": "markdown",
      "metadata": {
        "id": "view-in-github",
        "colab_type": "text"
      },
      "source": [
        "<a href=\"https://colab.research.google.com/github/rodmx/AI-ML-July-2020/blob/master/Day04.ipynb\" target=\"_parent\"><img src=\"https://colab.research.google.com/assets/colab-badge.svg\" alt=\"Open In Colab\"/></a>"
      ]
    },
    {
      "cell_type": "markdown",
      "metadata": {
        "id": "FDoNCMhuMhVK",
        "colab_type": "text"
      },
      "source": [
        "# Q1\n",
        "_Research on whether addition, subtraction, multiplication, division, floor division and modulooperations be performed on complex numbers. Based on your study, implement a Pythonprogram to demonstrate these operations_\n"
      ]
    },
    {
      "cell_type": "code",
      "metadata": {
        "id": "kfkYwvgCMk02",
        "colab_type": "code",
        "colab": {
          "base_uri": "https://localhost:8080/",
          "height": 129
        },
        "outputId": "23977e50-465d-43cd-facb-797abb50b622"
      },
      "source": [
        "a = 1+2j\n",
        "b = 3-4j\n",
        "print (\"a: \", a)\n",
        "print (\"b: \", b)\n",
        "print (\"a+b: \", a+b)\n",
        "print (\"a-b: \", a-b)\n",
        "print (\"a*b: \", a*b)\n",
        "print (\"a/b: \", a/b)\n",
        "#print (\"a//b: \", a//b)   cant floor complex numbers\n",
        "#print (\"a%b: \", a&b)    modulo not supported on complex numbers"
      ],
      "execution_count": 5,
      "outputs": [
        {
          "output_type": "stream",
          "text": [
            "a:  (1+2j)\n",
            "b:  (3-4j)\n",
            "a+b:  (4-2j)\n",
            "a-b:  (-2+6j)\n",
            "a*b:  (11+2j)\n",
            "a/b:  (-0.2+0.4j)\n"
          ],
          "name": "stdout"
        }
      ]
    },
    {
      "cell_type": "markdown",
      "metadata": {
        "id": "Y6Zh70IYQY3M",
        "colab_type": "text"
      },
      "source": [
        "# Q2\n",
        "_Research on range() functions and its parameters. Create a markdown cell and write in your ownwords (no copy-paste from google please) what you understand about it. Implement a smallprogram of your choice on the same._\n"
      ]
    },
    {
      "cell_type": "markdown",
      "metadata": {
        "id": "qz0fvufdsO6_",
        "colab_type": "text"
      },
      "source": [
        "**range( start, stop, step)**\n",
        "\n",
        "*start*> is the starting point of the range sequence. It is optional and defaults to zero.\n",
        "*stop*> is end of the sequence (n-1). It is mandatory.\n",
        "*step*> is the step size of the sequence. It is optional and defaults to one.\n"
      ]
    },
    {
      "cell_type": "code",
      "metadata": {
        "id": "gCD7VHyXvUdb",
        "colab_type": "code",
        "colab": {
          "base_uri": "https://localhost:8080/",
          "height": 54
        },
        "outputId": "6a4239f7-11be-41f7-d6b7-3b506aacbf1a"
      },
      "source": [
        "print( list(range(5)) ) \n",
        "list( range(10,30,3))"
      ],
      "execution_count": 16,
      "outputs": [
        {
          "output_type": "stream",
          "text": [
            "[0, 1, 2, 3, 4]\n"
          ],
          "name": "stdout"
        },
        {
          "output_type": "execute_result",
          "data": {
            "text/plain": [
              "[10, 13, 16, 19, 22, 25, 28]"
            ]
          },
          "metadata": {
            "tags": []
          },
          "execution_count": 16
        }
      ]
    },
    {
      "cell_type": "markdown",
      "metadata": {
        "id": "OIYvlWe8QjqN",
        "colab_type": "text"
      },
      "source": [
        "#Q3 \n",
        "_Consider two numbers. Perform their subtraction and if the result of subtraction is greater than 25, print their multiplication result else print their division result._"
      ]
    },
    {
      "cell_type": "code",
      "metadata": {
        "id": "mhE5pVeYQoyQ",
        "colab_type": "code",
        "colab": {
          "base_uri": "https://localhost:8080/",
          "height": 54
        },
        "outputId": "dc11470e-7f3f-4322-ead4-c7500f7b6d55"
      },
      "source": [
        "x=30\n",
        "y=20\n",
        "\n",
        "if ((x-y) >25):\n",
        "  print(\"x*y:\",x*y)\n",
        "else:\n",
        "  print(\"x/y:\",x/y)"
      ],
      "execution_count": 12,
      "outputs": [
        {
          "output_type": "stream",
          "text": [
            "x/y: 1.5\n",
            "x/z: 6.0\n"
          ],
          "name": "stdout"
        }
      ]
    },
    {
      "cell_type": "markdown",
      "metadata": {
        "id": "AxAicmxWQpHL",
        "colab_type": "text"
      },
      "source": [
        "#Q4\n",
        "_Consider a list of 10 elements of integer values. If the number in the list is divisible by 2, print the result as \"square of that number minus 2\"._\n"
      ]
    },
    {
      "cell_type": "code",
      "metadata": {
        "id": "OB7j4ziKQt3y",
        "colab_type": "code",
        "colab": {
          "base_uri": "https://localhost:8080/",
          "height": 223
        },
        "outputId": "8c8f1aa2-e9a7-4e4a-a9c2-51fb1018e424"
      },
      "source": [
        "l = list(range(11,60,5))\n",
        "print (l)\n",
        "for i in l:\n",
        "    if i%2==0:\n",
        "      print (i,\" is even. \", i**2 -2)\n",
        "    else:\n",
        "      print (i,\" is odd. \")"
      ],
      "execution_count": 30,
      "outputs": [
        {
          "output_type": "stream",
          "text": [
            "[11, 16, 21, 26, 31, 36, 41, 46, 51, 56]\n",
            "11  is odd. \n",
            "16  is even.  254\n",
            "21  is odd. \n",
            "26  is even.  674\n",
            "31  is odd. \n",
            "36  is even.  1294\n",
            "41  is odd. \n",
            "46  is even.  2114\n",
            "51  is odd. \n",
            "56  is even.  3134\n"
          ],
          "name": "stdout"
        }
      ]
    },
    {
      "cell_type": "markdown",
      "metadata": {
        "id": "1CojINnkQuEv",
        "colab_type": "text"
      },
      "source": [
        "#Q5\n",
        "_Consider a list of 10 elements. Print all the elements in the list which are greater than 7 when that \n",
        "number is divided 2._"
      ]
    },
    {
      "cell_type": "code",
      "metadata": {
        "id": "hBEu5jz5Qx44",
        "colab_type": "code",
        "colab": {
          "base_uri": "https://localhost:8080/",
          "height": 223
        },
        "outputId": "468528b9-f980-47bf-a12c-b359cfd7360c"
      },
      "source": [
        "l = list(range(3,31,3))\n",
        "print (l)\n",
        "for i in l:\n",
        "    if i/2>7:\n",
        "      print (i,\" is greated than 7 when divided 2. \")\n",
        "    else:\n",
        "      print (i,\" not the case. \")"
      ],
      "execution_count": 39,
      "outputs": [
        {
          "output_type": "stream",
          "text": [
            "[3, 6, 9, 12, 15, 18, 21, 24, 27, 30]\n",
            "3  not the case. \n",
            "6  not the case. \n",
            "9  not the case. \n",
            "12  not the case. \n",
            "15  is greated than 7 when divided 2. \n",
            "18  is greated than 7 when divided 2. \n",
            "21  is greated than 7 when divided 2. \n",
            "24  is greated than 7 when divided 2. \n",
            "27  is greated than 7 when divided 2. \n",
            "30  is greated than 7 when divided 2. \n"
          ],
          "name": "stdout"
        }
      ]
    },
    {
      "cell_type": "code",
      "metadata": {
        "id": "ln0ZcxFRx8ps",
        "colab_type": "code",
        "colab": {}
      },
      "source": [
        ""
      ],
      "execution_count": null,
      "outputs": []
    }
  ]
}