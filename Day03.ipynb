{
  "nbformat": 4,
  "nbformat_minor": 0,
  "metadata": {
    "colab": {
      "name": "Day03.ipynb",
      "provenance": [],
      "collapsed_sections": [],
      "authorship_tag": "ABX9TyP64UfTCDnzVNvX4rK+h1Dy",
      "include_colab_link": true
    },
    "kernelspec": {
      "name": "python3",
      "display_name": "Python 3"
    }
  },
  "cells": [
    {
      "cell_type": "markdown",
      "metadata": {
        "id": "view-in-github",
        "colab_type": "text"
      },
      "source": [
        "<a href=\"https://colab.research.google.com/github/rodmx/AI-ML-July-2020/blob/master/Day03.ipynb\" target=\"_parent\"><img src=\"https://colab.research.google.com/assets/colab-badge.svg\" alt=\"Open In Colab\"/></a>"
      ]
    },
    {
      "cell_type": "code",
      "metadata": {
        "id": "09ku_YUoUxLD",
        "colab_type": "code",
        "colab": {
          "base_uri": "https://localhost:8080/",
          "height": 36
        },
        "outputId": "56959175-22e4-46d2-aae3-ae77e2b0d53b"
      },
      "source": [
        "#\n",
        "# Complex numbers substraction\n",
        "import cmath\n",
        "a = 1.2j\n",
        "b = 2.1j\n",
        "c = a - b\n",
        "print(\"a-b equals:\", c)"
      ],
      "execution_count": 1,
      "outputs": [
        {
          "output_type": "stream",
          "text": [
            "a-b equals: -0.9000000000000001j\n"
          ],
          "name": "stdout"
        }
      ]
    },
    {
      "cell_type": "code",
      "metadata": {
        "id": "yWmSOgJ_U6uZ",
        "colab_type": "code",
        "colab": {
          "base_uri": "https://localhost:8080/",
          "height": 54
        },
        "outputId": "2131ff0d-ee86-4a41-be54-aa15390592e4"
      },
      "source": [
        "#\n",
        "# Complex numbers substraction\n",
        "x = 5\n",
        "y = 1\n",
        "z = 3\n",
        "complexno1 = complex(x,y)   #5,1\n",
        "complexno2 = complex(y,z)   #1,3\n",
        "# substraction\n",
        "complexno1 -= complexno2\n",
        "\n",
        "# Now printing the complex number\n",
        "print(\"real part is: \", end=\"\")\n",
        "print(complexno1.real)\n",
        "print(\"imaginary part is: \", end=\"\")\n",
        "print(complexno1.imag)"
      ],
      "execution_count": 3,
      "outputs": [
        {
          "output_type": "stream",
          "text": [
            "real part is: 4.0\n",
            "imaginary part is: -2.0\n"
          ],
          "name": "stdout"
        }
      ]
    },
    {
      "cell_type": "code",
      "metadata": {
        "id": "wtFwLoIoVKx8",
        "colab_type": "code",
        "colab": {
          "base_uri": "https://localhost:8080/",
          "height": 36
        },
        "outputId": "c6b1c6df-0389-4cf1-df71-bad9fe618669"
      },
      "source": [
        "#\n",
        "# Find the fourth root of a number\n",
        "number = 500\n",
        "print(\"Fourth root: \", end=\"\")\n",
        "print(number**(1/4))"
      ],
      "execution_count": 5,
      "outputs": [
        {
          "output_type": "stream",
          "text": [
            "Fourth root: 4.728708045015879\n"
          ],
          "name": "stdout"
        }
      ]
    },
    {
      "cell_type": "code",
      "metadata": {
        "id": "swsX_Jm_VT4t",
        "colab_type": "code",
        "colab": {
          "base_uri": "https://localhost:8080/",
          "height": 92
        },
        "outputId": "b398d072-f671-40b3-d243-f30ec2c0f4c5"
      },
      "source": [
        "#\n",
        "# Swap two numbers using a temp var\n",
        "a = 4\n",
        "b = 2\n",
        "c = 0\n",
        "print(\"Before swap, A equals\", end=\"\")\n",
        "print(a)\n",
        "print(\"B equals\", end=\"\")\n",
        "print(b)\n",
        "# using temp var -c-\n",
        "c = b\n",
        "b = a\n",
        "a = c\n",
        "print(\"After swap, A equals\", end=\"\")\n",
        "print(a)\n",
        "print(\"B equals\", end=\"\")\n",
        "print(b)"
      ],
      "execution_count": 6,
      "outputs": [
        {
          "output_type": "stream",
          "text": [
            "Before swap, A equals4\n",
            "B equals2\n",
            "After swap, A equals2\n",
            "B equals4\n"
          ],
          "name": "stdout"
        }
      ]
    },
    {
      "cell_type": "code",
      "metadata": {
        "id": "NZznh7R-VgGI",
        "colab_type": "code",
        "colab": {
          "base_uri": "https://localhost:8080/",
          "height": 110
        },
        "outputId": "7bab2607-8dbb-4bee-e56f-1b65f893a9b9"
      },
      "source": [
        "#\n",
        "# Swap two numbers w/o using a temp var\n",
        "a = 4\n",
        "b = 2\n",
        "c = 0\n",
        "print(\"Before swap, A equals \", end=\"\")\n",
        "print(a)\n",
        "print(\"B equals\", end=\"\")\n",
        "print(b)\n",
        "# w/o using temp var\n",
        "a, b = b, a\n",
        "print(\"No temporary variable used\")\n",
        "print(\"After swap, A equals \", end=\"\")\n",
        "print(a)\n",
        "print(\"B equals\", end=\"\")\n",
        "print(b)"
      ],
      "execution_count": 8,
      "outputs": [
        {
          "output_type": "stream",
          "text": [
            "Before swap, A equals 4\n",
            "B equals2\n",
            "No temporary variable used\n",
            "After swap, A equals 2\n",
            "B equals4\n"
          ],
          "name": "stdout"
        }
      ]
    },
    {
      "cell_type": "code",
      "metadata": {
        "id": "AU0KSZs8VulN",
        "colab_type": "code",
        "colab": {
          "base_uri": "https://localhost:8080/",
          "height": 73
        },
        "outputId": "e90c74a6-cf2d-4778-9f03-f8b89eb72dd4"
      },
      "source": [
        "#\n",
        "# From °F to °K and °C\n",
        "f = 100.0\n",
        "k = 0.0\n",
        "c = 0.0\n",
        "\n",
        "k = ((f-32)/1.8)+ 273.15\n",
        "c = (f-32) * (5/9)    # beware of dividing integers....\n",
        "\n",
        "print(f, \"°F is \", c, \"°C\" )\n",
        "print(f, \"°F is \", k, \"°K\" )\n",
        "print(5/9)"
      ],
      "execution_count": 17,
      "outputs": [
        {
          "output_type": "stream",
          "text": [
            "100.0 °F is  37.77777777777778 °C\n",
            "100.0 °F is  310.92777777777775 °K\n",
            "0.5555555555555556\n"
          ],
          "name": "stdout"
        }
      ]
    },
    {
      "cell_type": "code",
      "metadata": {
        "id": "Dk6PJdFyYhdb",
        "colab_type": "code",
        "colab": {
          "base_uri": "https://localhost:8080/",
          "height": 166
        },
        "outputId": "aa93fe52-77c0-447a-89cd-8656052e5244"
      },
      "source": [
        "#\n",
        "# List all data types\n",
        "\n",
        "a = 2\n",
        "print(a, \"is a \", type(a))\n",
        "\n",
        "b = 2.1\n",
        "print(b, \"is a \", type(b))\n",
        "\n",
        "c = 1+2j\n",
        "print(c, \"is a \", type(c))\n",
        "\n",
        "d = \"Hi!\"\n",
        "print(d, \"is a \", type(d))\n",
        "\n",
        "e = [1,2,3]\n",
        "print(e, \"is a \", type(e))\n",
        "\n",
        "f = (1,2,3,\"hi!\")\n",
        "print(f, \"is a \", type(f))\n",
        "\n",
        "g = {1,2,3.45,\"hi!\"}\n",
        "print(g, \"is a \", type(g))\n",
        "\n",
        "h = {1:'uno',2:'dos',3:'tres'}\n",
        "print(h, \"is a \", type(h))"
      ],
      "execution_count": 18,
      "outputs": [
        {
          "output_type": "stream",
          "text": [
            "2 is a  <class 'int'>\n",
            "2.1 is a  <class 'float'>\n",
            "(1+2j) is a  <class 'complex'>\n",
            "Hi! is a  <class 'str'>\n",
            "[1, 2, 3] is a  <class 'list'>\n",
            "(1, 2, 3, 'hi!') is a  <class 'tuple'>\n",
            "{1, 2, 3.45, 'hi!'} is a  <class 'set'>\n",
            "{1: 'uno', 2: 'dos', 3: 'tres'} is a  <class 'dict'>\n"
          ],
          "name": "stdout"
        }
      ]
    },
    {
      "cell_type": "code",
      "metadata": {
        "id": "wvdpMhYKYpPz",
        "colab_type": "code",
        "colab": {}
      },
      "source": [
        "\n"
      ],
      "execution_count": null,
      "outputs": []
    },
    {
      "cell_type": "markdown",
      "metadata": {
        "id": "hpuMJQ97lkD7",
        "colab_type": "text"
      },
      "source": [
        "\n",
        "#\n",
        "#Markdown soon to be...\n",
        "Steps to *create* **_github profile_** and upload **assignment** link to Github\n",
        "\n",
        "\n",
        "1.   Create a repository on github.\n",
        "2.   Then inside (1) create one folder per day (Day 3, Day 4).\n",
        "3.   Upload your Day's assignment in the corresponding folder.\n",
        "4.   _=)_\n"
      ]
    }
  ]
}